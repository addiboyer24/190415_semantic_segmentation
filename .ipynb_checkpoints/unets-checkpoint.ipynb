{
 "cells": [
  {
   "cell_type": "markdown",
   "metadata": {},
   "source": [
    "# Semantic Segmentation\n",
    "\n",
    "No Ng lecture, but Stanford's deep learning course has an [excellent video lecture on this topic](https://www.youtube.com/watch?v=nDPWywWRIRo).  Please watch 00:08:00 - 00:33:00 or so (or keep watching to the end: it's pretty interesting stuff).  \n",
    "\n",
    "So far, we've been concerned with the problem of object recognition: a mapping from an image to a class (or a probability of membership in each of N disjoint classes).  This is a useful thing as it allows us to determine the subject in an image.  It's also highly reductive, in the sense that we throw away all of the information about where in the image the object in question was located.  We were able to recover this information in some sense through class activation mapping (CAM).  However, it's important to think about the question that class activation mapping is answering: *What was the neural network looking at when it made its decision?*.  Thus, if one was looking at a picture of a ship, the network may have been looking at a flat horizon, or the ocean surface and saying *the only class that shows up on the ocean is a ship, so I'm going to classify this image as a ship.* Another case that I noticed was when classifying deer, the class activation map often indicated that the void space between the deer's legs was a focus of attention.  Or take the following example, in which CAM hones in on a blurry representation of the face of both the horse and the dog: clearly, the other pixels composing the creature were not used as evidence.\n",
    "\n",
    "<img src=cam.png/>\n",
    "\n",
    "An alternative and more explicit question that we can ask is: *what pixels in this image belong to class k?* As it turns out, we can code that question with a neural network.  \n",
    "\n",
    "What should be the inputs and outputs of this neural network?  Of course, the input is the same as for object recognition: usually a 3-band color image.  However, now instead of an array of probabilities for the entire image, we will have *an array of probabilities for each pixel*, thus our output image should be an image with the same width and height as the input, with N bands, where each band contains the probability of class membership.  Note that for the problem that we will address in this section, we will only use two classes (member of target class versus not member).  When this is the case, the output needs to only be one band: probability of membership.  Since these classes are disjoint, we can subtract the probability of membership from one to get the probability of not-membership.  Thus, we will be taking a color image, and outputting for each pixel the probability that it is a member of our target class.  \n",
    "\n",
    "This also defines our needs in terms of training data, and they are somewhat more onerous.  Rather than having pictures and their associated labels, we need pictures and an associated mask, in which each pixel in the member class has been labeled.  Usually this means that someone has gone and drawn a polygon around the interest object in each image.  That's alot of work!  Fortunately, this has mostly been done for us already.  An excellent and freely available data source that contains exactly this kind of labeled data is called the [COCO dataset](http://cocodataset.org/#home).  There is a bit of overhead associated with getting the annotations in a format that we can easily use and extracting the class of interest.  I have done this preprocessing step for you for a very specific subset of images: those containing dogs.  Let's have a look at some of these images and their associated masks.  The data can be found [here](https://drive.google.com/open?id=1Bn17ETcn5JAILXSy1mdRmO61ziP69ctG)."
   ]
  },
  {
   "cell_type": "code",
   "execution_count": null,
   "metadata": {},
   "outputs": [],
   "source": [
    "import keras.preprocessing as kp\n",
    "\n",
    "data_gen_args = dict(\n",
    "rotation_range=30,\n",
    "width_shift_range=0.1,\n",
    "height_shift_range=0.1,\n",
    "zoom_range=0.3,horizontal_flip=True)\n",
    "image_datagen = kp.image.ImageDataGenerator(preprocessing_function=lambda x: x/255.,**data_gen_args)\n",
    "mask_datagen = kp.image.ImageDataGenerator(**data_gen_args)\n",
    "\n",
    "target_size = (240,320)\n",
    "batch_size = 8\n",
    "\n",
    "image_generator = image_datagen.flow_from_directory(\n",
    "    './imgs_train',\n",
    "    class_mode=None,\n",
    "    seed=0,target_size=target_size,batch_size=batch_size)\n",
    "\n",
    "mask_generator = mask_datagen.flow_from_directory(\n",
    "    './masks_train',\n",
    "    class_mode=None,\n",
    "    seed=0,target_size=target_size,color_mode='grayscale',batch_size=batch_size)\n",
    "\n",
    "image_generator_test = image_datagen.flow_from_directory(\n",
    "    './imgs_test',\n",
    "    class_mode=None,\n",
    "    seed=0,target_size=target_size,batch_size=batch_size)\n",
    "\n",
    "mask_generator_test = mask_datagen.flow_from_directory(\n",
    "    './masks_test',\n",
    "    class_mode=None,\n",
    "    seed=0,target_size=target_size,color_mode='grayscale',batch_size=batch_size)\n",
    "\n",
    "train_generator = zip(image_generator, mask_generator)\n",
    "test_generator = zip(image_generator_test,mask_generator_test)"
   ]
  },
  {
   "cell_type": "markdown",
   "metadata": {},
   "source": [
    "Let's have a look at the above code, because it's doing something slightly different from what we've seen before.  Specifically, we're doing two new things.  First, we're storing our training and test data out of core: this dataset is very large, and we don't want to put it all in memory, thus we use the ImageDataGenerator class, which will read images from a directory during runtime, normalize them according to a preprocessing function (dividing the input by 255 for example), and perform our second new thing: *data augmentation*.  Data augmentation relies on the idea that the semantic content of an image remains the same regardless of small variations.  For example, a dog is still a dog even after rotating an image by 20 degrees, or flipping across its axis, or zooming in or out a little bit.  By applying these operations to our training examples, the network can never rely on a single pixel's value, thus reducing the possibility of [overfitting](https://en.wikipedia.org/wiki/Overfitting), and also enhances the generalizability of the network.   "
   ]
  },
  {
   "cell_type": "code",
   "execution_count": null,
   "metadata": {},
   "outputs": [],
   "source": [
    "import matplotlib.pyplot as plt\n",
    "\n",
    "img_batch,mask_batch = next(train_generator)\n",
    "fig,axs = plt.subplots(nrows=2,ncols=4,figsize=(12,6))\n",
    "counter = 0\n",
    "for r in axs:\n",
    "    for ax in r:\n",
    "        ax.imshow(img_batch[counter])\n",
    "        ax.imshow(mask_batch[counter,:,:,0],alpha=0.3)\n",
    "        counter += 1\n",
    "plt.show()"
   ]
  },
  {
   "cell_type": "markdown",
   "metadata": {},
   "source": [
    "Look all the adorable doggos!  Let's see if we can train a network that can reproduce these masks.  \n",
    "\n",
    "Obviously, we're going to need to come up with some different ideas than what we've seen so far, because continously downscaling the image isn't going to work: the output needs to be the same size as the input.  However, we'll need to do some downscaling, both for the sake of computational efficiency and to increase the size of our network's perceptive field (the parts of the image that go into classifying a particular pixel).  A network architecture that has proven extremely useful for this task is called [U-net](https://arxiv.org/pdf/1505.04597.pdf), so called because it resembles a U.  It borrows some ideas from ResNet as well in that there are skip connections, although these are a bit different than the ResNet ones.  U-net looks like this:\n",
    "<img src=unet.svg width=800/>\n",
    "Note that to save space, when the convolution kernel size is not specified, it's 3x3.  \n",
    "\n",
    "What does this network do?  Essentially, what we have is a sequence of image downscalings, followed by a sequence of upscalings to get us back to the original image size.  Note that at no point do we have a fully-connected layer or global average pool or flatten or anything else that would make the feature maps not images.  Such an architecture is referred to as a *fully convolutional network* or a FCN.   \n",
    "\n",
    "Without the skip connections, using this architecture for the problem we're considering does work, however the resulting segmentation tends to be very \"low-res\" for lack of a better word: edges aren't captured well and spatial localization is poor.  Why is this?  During the downsampling step, we're throwing away information by distilling the contents of a neighborhood of four pixels into a single value.  As we are well aware, it isn't possible to recover the original image from this reduced representation.  U-net solves this problem by concatenating every upsampled layer to the previously computed and commensurately sized downsampling layer.  Thus, each layer gets access to the features that were generated during downsampling at its own scale *along with the larger scale information produced by further downsampling*.\n",
    "\n",
    "Note that the figure above shows a U-net that downsamples twice (and upsamples twice).  However, in practice deeper networks are often used.  The following code gives a U-net that downsamples and upsamples only once.  **Extend the network below such that it has a total of five downsampling steps and four upsampling steps.**  This will yield a network with a maximum number of feature maps of 1024!  This is alot: the model is very large and we will definitely need to run it on a GPU.  You also may have to adjust your batch size so that everything fits in GPU memory.   \n",
    "\n",
    "\n",
    "\n",
    "\n"
   ]
  },
  {
   "cell_type": "code",
   "execution_count": null,
   "metadata": {},
   "outputs": [],
   "source": [
    "import keras.layers as kl\n",
    "import keras.models as km\n",
    "\n",
    "def unet(input_size):\n",
    "    inputs = kl.Input(input_size)\n",
    "    conv1 = kl.Conv2D(64, 3, activation = 'relu', padding = 'same', kernel_initializer = 'he_normal')(inputs)\n",
    "    conv1 = kl.BatchNormalization()(conv1)\n",
    "    conv1 = kl.Conv2D(64, 3, activation = 'relu', padding = 'same', kernel_initializer = 'he_normal')(conv1)\n",
    "    conv1 = kl.BatchNormalization()(conv1)\n",
    "    pool1 = kl.MaxPooling2D(pool_size=(2, 2))(conv1)\n",
    "\n",
    "    \n",
    "    conv5 = kl.Conv2D(128, 3, activation = 'relu', padding = 'same', kernel_initializer = 'he_normal')(pool1)\n",
    "    conv5 = kl.BatchNormalization()(conv5)\n",
    "    conv5 = kl.Conv2D(128, 3, activation = 'relu', padding = 'same', kernel_initializer = 'he_normal')(conv5)\n",
    "    conv5 = kl.BatchNormalization()(conv5)\n",
    "\n",
    "\n",
    "    depool9 = kl.UpSampling2D(size = (2,2))(conv5)\n",
    "    upconv9 = kl.Conv2D(64, 2, activation = 'linear', padding = 'same', kernel_initializer = 'he_normal')(depool9)\n",
    "    merge9 = kl.concatenate([conv1,upconv9], axis = 3)\n",
    "    conv9 = kl.Conv2D(64, 3, activation = 'relu', padding = 'same', kernel_initializer = 'he_normal')(merge9)\n",
    "    conv9 = kl.BatchNormalization()(conv9)\n",
    "    conv9 = kl.Conv2D(64, 3, activation = 'relu', padding = 'same', kernel_initializer = 'he_normal')(conv9)\n",
    "    conv9 = kl.BatchNormalization()(conv9)\n",
    "    conv10 = kl.Conv2D(1, 1, activation = 'sigmoid')(conv9)\n",
    "\n",
    "    model = km.Model(input = inputs, output = conv10)\n",
    "\n",
    "    return model\n",
    "\n",
    "model = unet((240,320,3))"
   ]
  },
  {
   "cell_type": "markdown",
   "metadata": {},
   "source": [
    "Once we have coded U-net, we can train it just like any other model.  Our loss function for this model is going to be binary crossentropy: this is the appropriate loss for the case in which we only have two classes.\n",
    "\n",
    "Also, note that this problem requires a somewhat reduced learning rate compared to previous examples.  A good starting value is $10^{-4}$."
   ]
  },
  {
   "cell_type": "code",
   "execution_count": null,
   "metadata": {},
   "outputs": [],
   "source": [
    "import keras.optimizers as ko\n",
    "model.compile(optimizer = ko.Adam(lr = 1e-4), loss = 'binary_crossentropy', metrics = ['accuracy'])\n",
    "model.summary()"
   ]
  },
  {
   "cell_type": "markdown",
   "metadata": {},
   "source": [
    "As in other CNNs, we'll want to checkpoint our model weights and we'll want to specify a learning rate schedule.  I make no claim that this learning rate schedule is the best.  For a correctly implemented U-net, it seems to work okay for me.  "
   ]
  },
  {
   "cell_type": "code",
   "execution_count": null,
   "metadata": {},
   "outputs": [],
   "source": [
    "import keras.callbacks as kc\n",
    "filepath = './checkpoints_2.h5'\n",
    "\n",
    "# Prepare callbacks for model saving and for learning rate adjustment.\n",
    "checkpoint = kc.ModelCheckpoint(filepath=filepath,\n",
    "                             monitor='val_acc',\n",
    "                             verbose=1,\n",
    "                             save_best_only=True)\n",
    "\n",
    "def lr_schedule(epoch):\n",
    "    lr = 1e-4\n",
    "    if epoch > 80:\n",
    "        lr /=16.\n",
    "    elif epoch > 40:\n",
    "        lr /= 8.\n",
    "    elif epoch > 25:\n",
    "        lr /= 4.\n",
    "    elif epoch > 10:\n",
    "        lr /= 2.\n",
    "    print('Learning rate: ', lr)\n",
    "    return lr\n",
    "\n",
    "lr_scheduler = kc.LearningRateScheduler(lr_schedule)"
   ]
  },
  {
   "cell_type": "markdown",
   "metadata": {},
   "source": [
    "Finally, we can fit the model as before.  However, we'll use the fit_generator command as we want to fit the data from a generator rather than from a numpy array.  *When you call this command, it's going to take a very long time to run, up to 8 hours on a GPU.*  "
   ]
  },
  {
   "cell_type": "code",
   "execution_count": null,
   "metadata": {
    "scrolled": true
   },
   "outputs": [],
   "source": [
    "model.load_weights('checkpoints_2.h5')\n",
    "model.fit_generator(train_generator, steps_per_epoch=(3041-305)//batch_size,epochs=200,validation_data=test_generator,validation_steps=301//8,callbacks=[checkpoint,lr_scheduler])"
   ]
  },
  {
   "cell_type": "markdown",
   "metadata": {},
   "source": [
    "Once the model is done training, we can make predictions on the test data:"
   ]
  },
  {
   "cell_type": "code",
   "execution_count": null,
   "metadata": {},
   "outputs": [],
   "source": [
    "# Make a prediction on the test set\n",
    "\n",
    "imgs = image_generator_test.next()\n",
    "masks_true = mask_generator_test.next()\n",
    "masks = model.predict(imgs)\n",
    "fig,axs = plt.subplots(nrows=batch_size,figsize=(4,4*batch_size))\n",
    "for img,mask,ax in zip(imgs,masks,axs):\n",
    "    ax.imshow(img.squeeze())\n",
    "    ax.imshow(mask.squeeze(),alpha=0.6,vmin=0,vmax=1)"
   ]
  }
 ],
 "metadata": {
  "kernelspec": {
   "display_name": "Python 3",
   "language": "python",
   "name": "python3"
  },
  "language_info": {
   "codemirror_mode": {
    "name": "ipython",
    "version": 3
   },
   "file_extension": ".py",
   "mimetype": "text/x-python",
   "name": "python",
   "nbconvert_exporter": "python",
   "pygments_lexer": "ipython3",
   "version": "3.7.2"
  }
 },
 "nbformat": 4,
 "nbformat_minor": 2
}
